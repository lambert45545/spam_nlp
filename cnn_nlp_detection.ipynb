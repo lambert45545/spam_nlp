{
  "nbformat": 4,
  "nbformat_minor": 0,
  "metadata": {
    "colab": {
      "provenance": []
    },
    "kernelspec": {
      "name": "python3",
      "display_name": "Python 3"
    },
    "language_info": {
      "name": "python"
    }
  },
  "cells": [
    {
      "cell_type": "code",
      "execution_count": null,
      "metadata": {
        "id": "A9g78l777mrN",
        "colab": {
          "base_uri": "https://localhost:8080/"
        },
        "outputId": "892e513b-f151-4e6d-9e85-7c9b50bc936b"
      },
      "outputs": [
        {
          "output_type": "stream",
          "name": "stderr",
          "text": [
            "[nltk_data] Downloading package stopwords to /root/nltk_data...\n",
            "[nltk_data]   Package stopwords is already up-to-date!\n"
          ]
        },
        {
          "output_type": "execute_result",
          "data": {
            "text/plain": [
              "True"
            ]
          },
          "metadata": {},
          "execution_count": 29
        }
      ],
      "source": [
        "import pandas as pd\n",
        "import numpy as np\n",
        "import matplotlib.pyplot as plt\n",
        "import os\n",
        "import regex as re\n",
        "import nltk\n",
        "from nltk.corpus import stopwords\n",
        "from bs4 import BeautifulSoup\n",
        "nltk.download('stopwords')\n"
      ]
    },
    {
      "cell_type": "code",
      "execution_count": null,
      "metadata": {
        "colab": {
          "base_uri": "https://localhost:8080/",
          "height": 643
        },
        "id": "sd_XTWuJXZWw",
        "outputId": "8097ca72-3541-4e5e-c13a-efca82e2d77d"
      },
      "outputs": [
        {
          "output_type": "stream",
          "name": "stderr",
          "text": [
            "<ipython-input-64-00c892ec609f>:53: SettingWithCopyWarning: \n",
            "A value is trying to be set on a copy of a slice from a DataFrame.\n",
            "Try using .loc[row_indexer,col_indexer] = value instead\n",
            "\n",
            "See the caveats in the documentation: https://pandas.pydata.org/pandas-docs/stable/user_guide/indexing.html#returning-a-view-versus-a-copy\n",
            "  data_set['review']=data_set['v2'].apply(denoise_text)\n",
            "<ipython-input-64-00c892ec609f>:56: SettingWithCopyWarning: \n",
            "A value is trying to be set on a copy of a slice from a DataFrame.\n",
            "Try using .loc[row_indexer,col_indexer] = value instead\n",
            "\n",
            "See the caveats in the documentation: https://pandas.pydata.org/pandas-docs/stable/user_guide/indexing.html#returning-a-view-versus-a-copy\n",
            "  data_set['v1'] = data_set['v1'].map(label_mapping)\n"
          ]
        },
        {
          "output_type": "execute_result",
          "data": {
            "text/plain": [
              "                                                     v2  v1  \\\n",
              "0     Go until jurong point, crazy.. Available only ...   0   \n",
              "1                         Ok lar... Joking wif u oni...   0   \n",
              "2     Free entry in 2 a wkly comp to win FA Cup fina...   1   \n",
              "3     U dun say so early hor... U c already then say...   0   \n",
              "4     Nah I don't think he goes to usf, he lives aro...   0   \n",
              "...                                                 ...  ..   \n",
              "5567  This is the 2nd time we have tried 2 contact u...   1   \n",
              "5568              Will Ì_ b going to esplanade fr home?   0   \n",
              "5569  Pity, * was in mood for that. So...any other s...   0   \n",
              "5570  The guy did some bitching but I acted like i'd...   0   \n",
              "5571                         Rofl. Its true to its name   0   \n",
              "\n",
              "                                                 review  \n",
              "0     go jurong point crazi avail bugi n great world...  \n",
              "1                                 ok lar joke wif u oni  \n",
              "2     free entri 2 wkli comp win fa cup final tkt 21...  \n",
              "3                   u dun say earli hor u c alreadi say  \n",
              "4             nah dont think goe usf live around though  \n",
              "...                                                 ...  \n",
              "5567  2nd time tri 2 contact u u 750 pound prize 2 c...  \n",
              "5568                              b go esplanad fr home  \n",
              "5569                            piti mood soani suggest  \n",
              "5570  guy bitch act like id interest buy someth els ...  \n",
              "5571                                     rofl true name  \n",
              "\n",
              "[5572 rows x 3 columns]"
            ],
            "text/html": [
              "\n",
              "  <div id=\"df-e5465f98-2913-43cb-825f-d5baa301051c\" class=\"colab-df-container\">\n",
              "    <div>\n",
              "<style scoped>\n",
              "    .dataframe tbody tr th:only-of-type {\n",
              "        vertical-align: middle;\n",
              "    }\n",
              "\n",
              "    .dataframe tbody tr th {\n",
              "        vertical-align: top;\n",
              "    }\n",
              "\n",
              "    .dataframe thead th {\n",
              "        text-align: right;\n",
              "    }\n",
              "</style>\n",
              "<table border=\"1\" class=\"dataframe\">\n",
              "  <thead>\n",
              "    <tr style=\"text-align: right;\">\n",
              "      <th></th>\n",
              "      <th>v2</th>\n",
              "      <th>v1</th>\n",
              "      <th>review</th>\n",
              "    </tr>\n",
              "  </thead>\n",
              "  <tbody>\n",
              "    <tr>\n",
              "      <th>0</th>\n",
              "      <td>Go until jurong point, crazy.. Available only ...</td>\n",
              "      <td>0</td>\n",
              "      <td>go jurong point crazi avail bugi n great world...</td>\n",
              "    </tr>\n",
              "    <tr>\n",
              "      <th>1</th>\n",
              "      <td>Ok lar... Joking wif u oni...</td>\n",
              "      <td>0</td>\n",
              "      <td>ok lar joke wif u oni</td>\n",
              "    </tr>\n",
              "    <tr>\n",
              "      <th>2</th>\n",
              "      <td>Free entry in 2 a wkly comp to win FA Cup fina...</td>\n",
              "      <td>1</td>\n",
              "      <td>free entri 2 wkli comp win fa cup final tkt 21...</td>\n",
              "    </tr>\n",
              "    <tr>\n",
              "      <th>3</th>\n",
              "      <td>U dun say so early hor... U c already then say...</td>\n",
              "      <td>0</td>\n",
              "      <td>u dun say earli hor u c alreadi say</td>\n",
              "    </tr>\n",
              "    <tr>\n",
              "      <th>4</th>\n",
              "      <td>Nah I don't think he goes to usf, he lives aro...</td>\n",
              "      <td>0</td>\n",
              "      <td>nah dont think goe usf live around though</td>\n",
              "    </tr>\n",
              "    <tr>\n",
              "      <th>...</th>\n",
              "      <td>...</td>\n",
              "      <td>...</td>\n",
              "      <td>...</td>\n",
              "    </tr>\n",
              "    <tr>\n",
              "      <th>5567</th>\n",
              "      <td>This is the 2nd time we have tried 2 contact u...</td>\n",
              "      <td>1</td>\n",
              "      <td>2nd time tri 2 contact u u 750 pound prize 2 c...</td>\n",
              "    </tr>\n",
              "    <tr>\n",
              "      <th>5568</th>\n",
              "      <td>Will Ì_ b going to esplanade fr home?</td>\n",
              "      <td>0</td>\n",
              "      <td>b go esplanad fr home</td>\n",
              "    </tr>\n",
              "    <tr>\n",
              "      <th>5569</th>\n",
              "      <td>Pity, * was in mood for that. So...any other s...</td>\n",
              "      <td>0</td>\n",
              "      <td>piti mood soani suggest</td>\n",
              "    </tr>\n",
              "    <tr>\n",
              "      <th>5570</th>\n",
              "      <td>The guy did some bitching but I acted like i'd...</td>\n",
              "      <td>0</td>\n",
              "      <td>guy bitch act like id interest buy someth els ...</td>\n",
              "    </tr>\n",
              "    <tr>\n",
              "      <th>5571</th>\n",
              "      <td>Rofl. Its true to its name</td>\n",
              "      <td>0</td>\n",
              "      <td>rofl true name</td>\n",
              "    </tr>\n",
              "  </tbody>\n",
              "</table>\n",
              "<p>5572 rows × 3 columns</p>\n",
              "</div>\n",
              "    <div class=\"colab-df-buttons\">\n",
              "\n",
              "  <div class=\"colab-df-container\">\n",
              "    <button class=\"colab-df-convert\" onclick=\"convertToInteractive('df-e5465f98-2913-43cb-825f-d5baa301051c')\"\n",
              "            title=\"Convert this dataframe to an interactive table.\"\n",
              "            style=\"display:none;\">\n",
              "\n",
              "  <svg xmlns=\"http://www.w3.org/2000/svg\" height=\"24px\" viewBox=\"0 -960 960 960\">\n",
              "    <path d=\"M120-120v-720h720v720H120Zm60-500h600v-160H180v160Zm220 220h160v-160H400v160Zm0 220h160v-160H400v160ZM180-400h160v-160H180v160Zm440 0h160v-160H620v160ZM180-180h160v-160H180v160Zm440 0h160v-160H620v160Z\"/>\n",
              "  </svg>\n",
              "    </button>\n",
              "\n",
              "  <style>\n",
              "    .colab-df-container {\n",
              "      display:flex;\n",
              "      gap: 12px;\n",
              "    }\n",
              "\n",
              "    .colab-df-convert {\n",
              "      background-color: #E8F0FE;\n",
              "      border: none;\n",
              "      border-radius: 50%;\n",
              "      cursor: pointer;\n",
              "      display: none;\n",
              "      fill: #1967D2;\n",
              "      height: 32px;\n",
              "      padding: 0 0 0 0;\n",
              "      width: 32px;\n",
              "    }\n",
              "\n",
              "    .colab-df-convert:hover {\n",
              "      background-color: #E2EBFA;\n",
              "      box-shadow: 0px 1px 2px rgba(60, 64, 67, 0.3), 0px 1px 3px 1px rgba(60, 64, 67, 0.15);\n",
              "      fill: #174EA6;\n",
              "    }\n",
              "\n",
              "    .colab-df-buttons div {\n",
              "      margin-bottom: 4px;\n",
              "    }\n",
              "\n",
              "    [theme=dark] .colab-df-convert {\n",
              "      background-color: #3B4455;\n",
              "      fill: #D2E3FC;\n",
              "    }\n",
              "\n",
              "    [theme=dark] .colab-df-convert:hover {\n",
              "      background-color: #434B5C;\n",
              "      box-shadow: 0px 1px 3px 1px rgba(0, 0, 0, 0.15);\n",
              "      filter: drop-shadow(0px 1px 2px rgba(0, 0, 0, 0.3));\n",
              "      fill: #FFFFFF;\n",
              "    }\n",
              "  </style>\n",
              "\n",
              "    <script>\n",
              "      const buttonEl =\n",
              "        document.querySelector('#df-e5465f98-2913-43cb-825f-d5baa301051c button.colab-df-convert');\n",
              "      buttonEl.style.display =\n",
              "        google.colab.kernel.accessAllowed ? 'block' : 'none';\n",
              "\n",
              "      async function convertToInteractive(key) {\n",
              "        const element = document.querySelector('#df-e5465f98-2913-43cb-825f-d5baa301051c');\n",
              "        const dataTable =\n",
              "          await google.colab.kernel.invokeFunction('convertToInteractive',\n",
              "                                                    [key], {});\n",
              "        if (!dataTable) return;\n",
              "\n",
              "        const docLinkHtml = 'Like what you see? Visit the ' +\n",
              "          '<a target=\"_blank\" href=https://colab.research.google.com/notebooks/data_table.ipynb>data table notebook</a>'\n",
              "          + ' to learn more about interactive tables.';\n",
              "        element.innerHTML = '';\n",
              "        dataTable['output_type'] = 'display_data';\n",
              "        await google.colab.output.renderOutput(dataTable, element);\n",
              "        const docLink = document.createElement('div');\n",
              "        docLink.innerHTML = docLinkHtml;\n",
              "        element.appendChild(docLink);\n",
              "      }\n",
              "    </script>\n",
              "  </div>\n",
              "\n",
              "\n",
              "<div id=\"df-581d0f16-994a-4f72-8ed0-36edaa07f838\">\n",
              "  <button class=\"colab-df-quickchart\" onclick=\"quickchart('df-581d0f16-994a-4f72-8ed0-36edaa07f838')\"\n",
              "            title=\"Suggest charts\"\n",
              "            style=\"display:none;\">\n",
              "\n",
              "<svg xmlns=\"http://www.w3.org/2000/svg\" height=\"24px\"viewBox=\"0 0 24 24\"\n",
              "     width=\"24px\">\n",
              "    <g>\n",
              "        <path d=\"M19 3H5c-1.1 0-2 .9-2 2v14c0 1.1.9 2 2 2h14c1.1 0 2-.9 2-2V5c0-1.1-.9-2-2-2zM9 17H7v-7h2v7zm4 0h-2V7h2v10zm4 0h-2v-4h2v4z\"/>\n",
              "    </g>\n",
              "</svg>\n",
              "  </button>\n",
              "\n",
              "<style>\n",
              "  .colab-df-quickchart {\n",
              "      --bg-color: #E8F0FE;\n",
              "      --fill-color: #1967D2;\n",
              "      --hover-bg-color: #E2EBFA;\n",
              "      --hover-fill-color: #174EA6;\n",
              "      --disabled-fill-color: #AAA;\n",
              "      --disabled-bg-color: #DDD;\n",
              "  }\n",
              "\n",
              "  [theme=dark] .colab-df-quickchart {\n",
              "      --bg-color: #3B4455;\n",
              "      --fill-color: #D2E3FC;\n",
              "      --hover-bg-color: #434B5C;\n",
              "      --hover-fill-color: #FFFFFF;\n",
              "      --disabled-bg-color: #3B4455;\n",
              "      --disabled-fill-color: #666;\n",
              "  }\n",
              "\n",
              "  .colab-df-quickchart {\n",
              "    background-color: var(--bg-color);\n",
              "    border: none;\n",
              "    border-radius: 50%;\n",
              "    cursor: pointer;\n",
              "    display: none;\n",
              "    fill: var(--fill-color);\n",
              "    height: 32px;\n",
              "    padding: 0;\n",
              "    width: 32px;\n",
              "  }\n",
              "\n",
              "  .colab-df-quickchart:hover {\n",
              "    background-color: var(--hover-bg-color);\n",
              "    box-shadow: 0 1px 2px rgba(60, 64, 67, 0.3), 0 1px 3px 1px rgba(60, 64, 67, 0.15);\n",
              "    fill: var(--button-hover-fill-color);\n",
              "  }\n",
              "\n",
              "  .colab-df-quickchart-complete:disabled,\n",
              "  .colab-df-quickchart-complete:disabled:hover {\n",
              "    background-color: var(--disabled-bg-color);\n",
              "    fill: var(--disabled-fill-color);\n",
              "    box-shadow: none;\n",
              "  }\n",
              "\n",
              "  .colab-df-spinner {\n",
              "    border: 2px solid var(--fill-color);\n",
              "    border-color: transparent;\n",
              "    border-bottom-color: var(--fill-color);\n",
              "    animation:\n",
              "      spin 1s steps(1) infinite;\n",
              "  }\n",
              "\n",
              "  @keyframes spin {\n",
              "    0% {\n",
              "      border-color: transparent;\n",
              "      border-bottom-color: var(--fill-color);\n",
              "      border-left-color: var(--fill-color);\n",
              "    }\n",
              "    20% {\n",
              "      border-color: transparent;\n",
              "      border-left-color: var(--fill-color);\n",
              "      border-top-color: var(--fill-color);\n",
              "    }\n",
              "    30% {\n",
              "      border-color: transparent;\n",
              "      border-left-color: var(--fill-color);\n",
              "      border-top-color: var(--fill-color);\n",
              "      border-right-color: var(--fill-color);\n",
              "    }\n",
              "    40% {\n",
              "      border-color: transparent;\n",
              "      border-right-color: var(--fill-color);\n",
              "      border-top-color: var(--fill-color);\n",
              "    }\n",
              "    60% {\n",
              "      border-color: transparent;\n",
              "      border-right-color: var(--fill-color);\n",
              "    }\n",
              "    80% {\n",
              "      border-color: transparent;\n",
              "      border-right-color: var(--fill-color);\n",
              "      border-bottom-color: var(--fill-color);\n",
              "    }\n",
              "    90% {\n",
              "      border-color: transparent;\n",
              "      border-bottom-color: var(--fill-color);\n",
              "    }\n",
              "  }\n",
              "</style>\n",
              "\n",
              "  <script>\n",
              "    async function quickchart(key) {\n",
              "      const quickchartButtonEl =\n",
              "        document.querySelector('#' + key + ' button');\n",
              "      quickchartButtonEl.disabled = true;  // To prevent multiple clicks.\n",
              "      quickchartButtonEl.classList.add('colab-df-spinner');\n",
              "      try {\n",
              "        const charts = await google.colab.kernel.invokeFunction(\n",
              "            'suggestCharts', [key], {});\n",
              "      } catch (error) {\n",
              "        console.error('Error during call to suggestCharts:', error);\n",
              "      }\n",
              "      quickchartButtonEl.classList.remove('colab-df-spinner');\n",
              "      quickchartButtonEl.classList.add('colab-df-quickchart-complete');\n",
              "    }\n",
              "    (() => {\n",
              "      let quickchartButtonEl =\n",
              "        document.querySelector('#df-581d0f16-994a-4f72-8ed0-36edaa07f838 button');\n",
              "      quickchartButtonEl.style.display =\n",
              "        google.colab.kernel.accessAllowed ? 'block' : 'none';\n",
              "    })();\n",
              "  </script>\n",
              "</div>\n",
              "    </div>\n",
              "  </div>\n"
            ]
          },
          "metadata": {},
          "execution_count": 64
        }
      ],
      "source": [
        "import pandas as pd\n",
        "data=pd.read_csv(\"spam.csv\",encoding=\"ISO-8859-1\")\n",
        "data_set=data[['v2','v1']]\n",
        "data_set.head(5)\n",
        "\n",
        "def alpha_num(text):\n",
        "    return re.sub(r'[^A-Za-z0-9\\s]', '', text)\n",
        "\n",
        "def remove_stopwords(text):\n",
        "    final_text = []\n",
        "    for i in text.split():\n",
        "        if i.strip().lower() not in stopwords.words('english'):\n",
        "            final_text.append(i.strip())\n",
        "    return \" \".join(final_text)\n",
        "\n",
        "def remove_URL(text):\n",
        "    url = re.compile(r'https?://\\S+|www\\.\\S+')\n",
        "    return url.sub(r'',text)\n",
        "\n",
        "def remove_html(text):\n",
        "    html=re.compile(r'<.*?>')\n",
        "    return html.sub(r'',text)\n",
        "\n",
        "def strip_html(text):\n",
        "    soup = BeautifulSoup(text, \"html.parser\")\n",
        "    return soup.get_text()\n",
        "\n",
        "def simple_stemmer(text):\n",
        "    ps=nltk.porter.PorterStemmer()\n",
        "    text= ' '.join([ps.stem(word) for word in text.split()])\n",
        "    return text\n",
        "\n",
        "def remove_between_square_brackets(text):\n",
        "    return re.sub('\\[[^]]*\\]', '', text)\n",
        "\n",
        "def str_lower(text):\n",
        "    return text.lower()\n",
        "\n",
        "def denoise_text(text):\n",
        "    text = alpha_num(text)\n",
        "    text = remove_stopwords(text)\n",
        "    text = remove_URL(text)\n",
        "    text = remove_html(text)\n",
        "    text = strip_html(text)\n",
        "    text = simple_stemmer(text)\n",
        "    text = remove_between_square_brackets(text)\n",
        "    text = str_lower(text)\n",
        "    return text\n",
        "\n",
        "\n",
        "\n",
        "\n",
        "data_set['review']=data_set['v2'].apply(denoise_text)\n",
        "label_mapping = {'spam': 1, 'ham': 0}\n",
        "\n",
        "data_set['v1'] = data_set['v1'].map(label_mapping)\n",
        "\n",
        "\n",
        "data_set['review']"
      ]
    },
    {
      "cell_type": "code",
      "source": [
        "data_set['review'][2]"
      ],
      "metadata": {
        "colab": {
          "base_uri": "https://localhost:8080/",
          "height": 35
        },
        "id": "ZL2RN1-178jB",
        "outputId": "a30ae611-970c-4074-c3cb-a010010b0023"
      },
      "execution_count": null,
      "outputs": [
        {
          "output_type": "execute_result",
          "data": {
            "text/plain": [
              "'free entri 2 wkli comp win fa cup final tkt 21st may 2005 text fa 87121 receiv entri questionstd txt ratetc appli 08452810075over18'"
            ],
            "application/vnd.google.colaboratory.intrinsic+json": {
              "type": "string"
            }
          },
          "metadata": {},
          "execution_count": 66
        }
      ]
    },
    {
      "cell_type": "code",
      "source": [
        "max_len = data_set['review'].apply(len).max()\n",
        "max_len"
      ],
      "metadata": {
        "colab": {
          "base_uri": "https://localhost:8080/"
        },
        "id": "K4epd5JsytuW",
        "outputId": "79a50852-7312-4d24-e6ea-03540218de71"
      },
      "execution_count": null,
      "outputs": [
        {
          "output_type": "execute_result",
          "data": {
            "text/plain": [
              "477"
            ]
          },
          "metadata": {},
          "execution_count": 48
        }
      ]
    },
    {
      "cell_type": "code",
      "source": [
        "from sklearn.model_selection import train_test_split"
      ],
      "metadata": {
        "id": "rvOaYuH6-_Ii"
      },
      "execution_count": null,
      "outputs": []
    },
    {
      "cell_type": "code",
      "source": [
        "import nltk\n",
        "from nltk.tokenize import word_tokenize\n",
        "!pip install keras\n"
      ],
      "metadata": {
        "id": "LnESdnMi-bQu",
        "colab": {
          "base_uri": "https://localhost:8080/"
        },
        "outputId": "34b9b5ca-d63d-46ed-bdb7-391b849e09a6"
      },
      "execution_count": null,
      "outputs": [
        {
          "output_type": "stream",
          "name": "stdout",
          "text": [
            "Requirement already satisfied: keras in /usr/local/lib/python3.10/dist-packages (2.14.0)\n"
          ]
        }
      ]
    },
    {
      "cell_type": "code",
      "source": [
        "from keras.preprocessing.sequence import pad_sequences\n",
        "from keras.preprocessing.text import Tokenizer\n",
        "from keras.layers import Embedding, Conv1D, MaxPooling1D, Dropout, LSTM\n",
        "from keras.models import Model\n",
        "from keras.layers import Input, Dense, Flatten\n",
        "\n",
        "features=data_set['review']\n",
        "labels=data_set['v1']\n",
        "X_train, X_test, y_train, y_test = train_test_split(features, labels, test_size=0.3, random_state=42)\n",
        "\n",
        "Tok_data = Tokenizer(oov_token='<00v>')\n",
        "Tok_data.fit_on_texts(X_train)\n",
        "\n",
        "encoded_train = Tok_data.texts_to_sequences(X_train)\n",
        "encoded_test = Tok_data.texts_to_sequences(X_test)\n",
        "\n",
        "max_length = 477\n",
        "\n",
        "\n",
        "padded_train = pad_sequences(encoded_train, maxlen=max_length, padding='post')\n",
        "padded_test = pad_sequences(encoded_test, maxlen=max_length, padding='post')\n",
        "\n",
        "vocab_size = len(Tok_data.word_index) + 1\n",
        "\n"
      ],
      "metadata": {
        "id": "vq-t3AwW96kn",
        "colab": {
          "base_uri": "https://localhost:8080/"
        },
        "outputId": "f2e51741-3597-4e00-f6cb-12ab6ae9026a"
      },
      "execution_count": null,
      "outputs": [
        {
          "output_type": "stream",
          "name": "stdout",
          "text": [
            "None\n"
          ]
        }
      ]
    },
    {
      "cell_type": "code",
      "source": [
        "\n",
        "embeddings_index = dict()\n",
        "with open('glove.6B.100d.txt') as f:\n",
        "  for line in f:\n",
        "    values = line.split()\n",
        "    word = values[0]\n",
        "    coefs = np.asarray(values[1:], dtype='float32')\n",
        "    embeddings_index[word] = coefs\n",
        "print('Loaded %s word vectors.' % len(embeddings_index))\n",
        "len(Tok_data.word_index)"
      ],
      "metadata": {
        "colab": {
          "base_uri": "https://localhost:8080/",
          "height": 256
        },
        "id": "9nn14ZAmD6SR",
        "outputId": "c0043e46-71b6-42ce-e3ac-fc44ee8cea3f"
      },
      "execution_count": null,
      "outputs": [
        {
          "output_type": "error",
          "ename": "KeyboardInterrupt",
          "evalue": "ignored",
          "traceback": [
            "\u001b[0;31m---------------------------------------------------------------------------\u001b[0m",
            "\u001b[0;31mKeyboardInterrupt\u001b[0m                         Traceback (most recent call last)",
            "\u001b[0;32m<ipython-input-73-e58e0098411c>\u001b[0m in \u001b[0;36m<cell line: 2>\u001b[0;34m()\u001b[0m\n\u001b[1;32m      4\u001b[0m     \u001b[0mvalues\u001b[0m \u001b[0;34m=\u001b[0m \u001b[0mline\u001b[0m\u001b[0;34m.\u001b[0m\u001b[0msplit\u001b[0m\u001b[0;34m(\u001b[0m\u001b[0;34m)\u001b[0m\u001b[0;34m\u001b[0m\u001b[0;34m\u001b[0m\u001b[0m\n\u001b[1;32m      5\u001b[0m     \u001b[0mword\u001b[0m \u001b[0;34m=\u001b[0m \u001b[0mvalues\u001b[0m\u001b[0;34m[\u001b[0m\u001b[0;36m0\u001b[0m\u001b[0;34m]\u001b[0m\u001b[0;34m\u001b[0m\u001b[0;34m\u001b[0m\u001b[0m\n\u001b[0;32m----> 6\u001b[0;31m     \u001b[0mcoefs\u001b[0m \u001b[0;34m=\u001b[0m \u001b[0mnp\u001b[0m\u001b[0;34m.\u001b[0m\u001b[0masarray\u001b[0m\u001b[0;34m(\u001b[0m\u001b[0mvalues\u001b[0m\u001b[0;34m[\u001b[0m\u001b[0;36m1\u001b[0m\u001b[0;34m:\u001b[0m\u001b[0;34m]\u001b[0m\u001b[0;34m,\u001b[0m \u001b[0mdtype\u001b[0m\u001b[0;34m=\u001b[0m\u001b[0;34m'float32'\u001b[0m\u001b[0;34m)\u001b[0m\u001b[0;34m\u001b[0m\u001b[0;34m\u001b[0m\u001b[0m\n\u001b[0m\u001b[1;32m      7\u001b[0m     \u001b[0membeddings_index\u001b[0m\u001b[0;34m[\u001b[0m\u001b[0mword\u001b[0m\u001b[0;34m]\u001b[0m \u001b[0;34m=\u001b[0m \u001b[0mcoefs\u001b[0m\u001b[0;34m\u001b[0m\u001b[0;34m\u001b[0m\u001b[0m\n\u001b[1;32m      8\u001b[0m \u001b[0mprint\u001b[0m\u001b[0;34m(\u001b[0m\u001b[0;34m'Loaded %s word vectors.'\u001b[0m \u001b[0;34m%\u001b[0m \u001b[0mlen\u001b[0m\u001b[0;34m(\u001b[0m\u001b[0membeddings_index\u001b[0m\u001b[0;34m)\u001b[0m\u001b[0;34m)\u001b[0m\u001b[0;34m\u001b[0m\u001b[0;34m\u001b[0m\u001b[0m\n",
            "\u001b[0;31mKeyboardInterrupt\u001b[0m: "
          ]
        }
      ]
    },
    {
      "cell_type": "code",
      "source": [
        "len(Tok_data.word_index)"
      ],
      "metadata": {
        "colab": {
          "base_uri": "https://localhost:8080/"
        },
        "id": "98PaIDoXNJL0",
        "outputId": "7f6014c1-648d-403d-d8ae-8d1c49533593"
      },
      "execution_count": null,
      "outputs": [
        {
          "output_type": "execute_result",
          "data": {
            "text/plain": [
              "6568"
            ]
          },
          "metadata": {},
          "execution_count": 74
        }
      ]
    },
    {
      "cell_type": "code",
      "source": [
        "\n",
        "embedding_matrix = np.zeros((vocab_size, 100))\n",
        "for word, i in Tok_data.word_index.items():\n",
        "  embedding_vector = embeddings_index.get(word)\n",
        "  if embedding_vector is not None:\n",
        "    embedding_matrix[i] = embedding_vector\n",
        "embedding_matrix.shape"
      ],
      "metadata": {
        "id": "--zwl05sXsXs",
        "colab": {
          "base_uri": "https://localhost:8080/"
        },
        "outputId": "c23ec917-6c40-449d-c91f-490227f2b46f"
      },
      "execution_count": null,
      "outputs": [
        {
          "output_type": "execute_result",
          "data": {
            "text/plain": [
              "(6569, 100)"
            ]
          },
          "metadata": {},
          "execution_count": 53
        }
      ]
    },
    {
      "cell_type": "code",
      "source": [
        "embedding_layer = Embedding(vocab_size,\n",
        "                            100,\n",
        "                            weights=[embedding_matrix],\n",
        "                            input_length=max_length,\n",
        "                            trainable=False)\n",
        "sequence_input = Input(shape=(max_length,), dtype='int32')\n",
        "embedded_sequences = embedding_layer(sequence_input)\n",
        "x = Flatten()(embedded_sequences)\n",
        "p = Dense(1, activation='sigmoid')(x)\n",
        "\n",
        "model_glove = Model(sequence_input, p)\n",
        "\n",
        "model_glove.compile(optimizer='adam', loss='binary_crossentropy', metrics=['accuracy'])\n",
        "model_glove.summary()"
      ],
      "metadata": {
        "colab": {
          "base_uri": "https://localhost:8080/"
        },
        "id": "4S3YY5zKaYRI",
        "outputId": "451bf207-2d19-4db3-cc0d-5d6f4964b197"
      },
      "execution_count": null,
      "outputs": [
        {
          "output_type": "stream",
          "name": "stdout",
          "text": [
            "Model: \"model_6\"\n",
            "_________________________________________________________________\n",
            " Layer (type)                Output Shape              Param #   \n",
            "=================================================================\n",
            " input_7 (InputLayer)        [(None, 477)]             0         \n",
            "                                                                 \n",
            " embedding_6 (Embedding)     (None, 477, 100)          656900    \n",
            "                                                                 \n",
            " flatten_6 (Flatten)         (None, 47700)             0         \n",
            "                                                                 \n",
            " dense_9 (Dense)             (None, 1)                 47701     \n",
            "                                                                 \n",
            "=================================================================\n",
            "Total params: 704601 (2.69 MB)\n",
            "Trainable params: 47701 (186.33 KB)\n",
            "Non-trainable params: 656900 (2.51 MB)\n",
            "_________________________________________________________________\n"
          ]
        }
      ]
    },
    {
      "cell_type": "code",
      "source": [
        "\n",
        "embedding_layer = Embedding(vocab_size,\n",
        "                            100,\n",
        "                            weights=[embedding_matrix],\n",
        "                            input_length=max_length,\n",
        "                            trainable=True)\n",
        "sequence_input = Input(shape=(max_length,), dtype='int32')\n",
        "embedded_sequences = embedding_layer(sequence_input)\n",
        "l_covl= Conv1D(256, 5, activation='relu')(embedded_sequences)\n",
        "l_pool3 = MaxPooling1D(5)(l_covl)\n",
        "l_flat = Flatten()(l_pool3)\n",
        "l_drop1 = Dropout(0.2)(l_flat)\n",
        "l_dense = Dense(180, activation='relu')(l_drop1)\n",
        "l_drop2 = Dropout(0.2)(l_dense)\n",
        "preds = Dense(1, activation='sigmoid')(l_drop2)\n",
        "\n",
        "model_cnn = Model(sequence_input, preds)\n",
        "model_cnn.compile(loss='binary_crossentropy',\n",
        "                  optimizer='ADAM',\n",
        "                  metrics=['accuracy'])\n",
        "model_cnn.summary()\n",
        "print(y_train.dtypes)\n",
        "print(y_test.dtypes)\n"
      ],
      "metadata": {
        "colab": {
          "base_uri": "https://localhost:8080/"
        },
        "id": "QYOlZlAec-mB",
        "outputId": "c1768efc-1407-4040-cbda-ece54b904bf8"
      },
      "execution_count": null,
      "outputs": [
        {
          "output_type": "stream",
          "name": "stdout",
          "text": [
            "Model: \"model_7\"\n",
            "_________________________________________________________________\n",
            " Layer (type)                Output Shape              Param #   \n",
            "=================================================================\n",
            " input_8 (InputLayer)        [(None, 477)]             0         \n",
            "                                                                 \n",
            " embedding_7 (Embedding)     (None, 477, 100)          656900    \n",
            "                                                                 \n",
            " conv1d_3 (Conv1D)           (None, 473, 256)          128256    \n",
            "                                                                 \n",
            " max_pooling1d_3 (MaxPoolin  (None, 94, 256)           0         \n",
            " g1D)                                                            \n",
            "                                                                 \n",
            " flatten_7 (Flatten)         (None, 24064)             0         \n",
            "                                                                 \n",
            " dropout_6 (Dropout)         (None, 24064)             0         \n",
            "                                                                 \n",
            " dense_10 (Dense)            (None, 180)               4331700   \n",
            "                                                                 \n",
            " dropout_7 (Dropout)         (None, 180)               0         \n",
            "                                                                 \n",
            " dense_11 (Dense)            (None, 1)                 181       \n",
            "                                                                 \n",
            "=================================================================\n",
            "Total params: 5117037 (19.52 MB)\n",
            "Trainable params: 5117037 (19.52 MB)\n",
            "Non-trainable params: 0 (0.00 Byte)\n",
            "_________________________________________________________________\n",
            "int64\n",
            "int64\n"
          ]
        }
      ]
    },
    {
      "cell_type": "code",
      "source": [
        "from keras.utils import to_categorical\n",
        "\n",
        "y_train_one_hot = to_categorical(y_train)\n",
        "y_test_one_hot = to_categorical(y_test)\n",
        "\n",
        "history_cnn = model_cnn.fit(padded_train, y_train, epochs=30, batch_size=512,validation_data=(padded_test, y_test), verbose=1)\n",
        "\n",
        "\n",
        "print(len(padded_train))\n",
        "print(len(y_train))\n",
        "\n"
      ],
      "metadata": {
        "colab": {
          "base_uri": "https://localhost:8080/"
        },
        "id": "EHg43OlzdDeL",
        "outputId": "19d3ba27-9ce6-4d11-94d6-5718ed387133"
      },
      "execution_count": null,
      "outputs": [
        {
          "output_type": "stream",
          "name": "stdout",
          "text": [
            "Epoch 1/30\n",
            "8/8 [==============================] - 62s 8s/step - loss: 0.4209 - accuracy: 0.8510 - val_loss: 0.2683 - val_accuracy: 0.8678\n",
            "Epoch 2/30\n",
            "8/8 [==============================] - 42s 5s/step - loss: 0.2566 - accuracy: 0.8841 - val_loss: 0.2263 - val_accuracy: 0.8870\n",
            "Epoch 3/30\n",
            "8/8 [==============================] - 42s 5s/step - loss: 0.1920 - accuracy: 0.9200 - val_loss: 0.1677 - val_accuracy: 0.9468\n",
            "Epoch 4/30\n",
            "8/8 [==============================] - 44s 5s/step - loss: 0.1273 - accuracy: 0.9626 - val_loss: 0.1169 - val_accuracy: 0.9611\n",
            "Epoch 5/30\n",
            "8/8 [==============================] - 44s 5s/step - loss: 0.0831 - accuracy: 0.9705 - val_loss: 0.0978 - val_accuracy: 0.9683\n",
            "Epoch 6/30\n",
            "8/8 [==============================] - 42s 5s/step - loss: 0.0602 - accuracy: 0.9813 - val_loss: 0.0853 - val_accuracy: 0.9767\n",
            "Epoch 7/30\n",
            "8/8 [==============================] - 46s 6s/step - loss: 0.0441 - accuracy: 0.9867 - val_loss: 0.0817 - val_accuracy: 0.9785\n",
            "Epoch 8/30\n",
            "8/8 [==============================] - 44s 6s/step - loss: 0.0285 - accuracy: 0.9921 - val_loss: 0.0769 - val_accuracy: 0.9809\n",
            "Epoch 9/30\n",
            "8/8 [==============================] - 41s 5s/step - loss: 0.0194 - accuracy: 0.9954 - val_loss: 0.0725 - val_accuracy: 0.9821\n",
            "Epoch 10/30\n",
            "8/8 [==============================] - 41s 5s/step - loss: 0.0127 - accuracy: 0.9977 - val_loss: 0.0817 - val_accuracy: 0.9809\n",
            "Epoch 11/30\n",
            "8/8 [==============================] - 41s 5s/step - loss: 0.0079 - accuracy: 0.9982 - val_loss: 0.0791 - val_accuracy: 0.9815\n",
            "Epoch 12/30\n",
            "8/8 [==============================] - 41s 5s/step - loss: 0.0051 - accuracy: 0.9990 - val_loss: 0.0870 - val_accuracy: 0.9803\n",
            "Epoch 13/30\n",
            "8/8 [==============================] - 41s 5s/step - loss: 0.0041 - accuracy: 0.9992 - val_loss: 0.0824 - val_accuracy: 0.9809\n",
            "Epoch 14/30\n",
            "8/8 [==============================] - 41s 5s/step - loss: 0.0031 - accuracy: 0.9997 - val_loss: 0.0895 - val_accuracy: 0.9815\n",
            "Epoch 15/30\n",
            "8/8 [==============================] - 41s 5s/step - loss: 0.0023 - accuracy: 0.9992 - val_loss: 0.0902 - val_accuracy: 0.9815\n",
            "Epoch 16/30\n",
            "8/8 [==============================] - 40s 5s/step - loss: 0.0017 - accuracy: 0.9997 - val_loss: 0.0910 - val_accuracy: 0.9815\n",
            "Epoch 17/30\n",
            "8/8 [==============================] - 41s 5s/step - loss: 0.0012 - accuracy: 1.0000 - val_loss: 0.1059 - val_accuracy: 0.9803\n",
            "Epoch 18/30\n",
            "8/8 [==============================] - 41s 5s/step - loss: 0.0011 - accuracy: 1.0000 - val_loss: 0.0954 - val_accuracy: 0.9809\n",
            "Epoch 19/30\n",
            "8/8 [==============================] - 41s 5s/step - loss: 0.0010 - accuracy: 1.0000 - val_loss: 0.1000 - val_accuracy: 0.9827\n",
            "Epoch 20/30\n",
            "8/8 [==============================] - 40s 5s/step - loss: 5.4013e-04 - accuracy: 1.0000 - val_loss: 0.1057 - val_accuracy: 0.9815\n",
            "Epoch 21/30\n",
            "8/8 [==============================] - 40s 5s/step - loss: 6.6888e-04 - accuracy: 1.0000 - val_loss: 0.1068 - val_accuracy: 0.9815\n",
            "Epoch 22/30\n",
            "8/8 [==============================] - 40s 5s/step - loss: 4.9526e-04 - accuracy: 1.0000 - val_loss: 0.1071 - val_accuracy: 0.9821\n",
            "Epoch 23/30\n",
            "8/8 [==============================] - 49s 6s/step - loss: 3.9617e-04 - accuracy: 1.0000 - val_loss: 0.1101 - val_accuracy: 0.9815\n",
            "Epoch 24/30\n",
            "8/8 [==============================] - 41s 5s/step - loss: 3.3498e-04 - accuracy: 1.0000 - val_loss: 0.1092 - val_accuracy: 0.9821\n",
            "Epoch 25/30\n",
            "8/8 [==============================] - 41s 5s/step - loss: 2.6347e-04 - accuracy: 1.0000 - val_loss: 0.1127 - val_accuracy: 0.9821\n",
            "Epoch 26/30\n",
            "8/8 [==============================] - 41s 5s/step - loss: 2.2524e-04 - accuracy: 1.0000 - val_loss: 0.1172 - val_accuracy: 0.9815\n",
            "Epoch 27/30\n",
            "8/8 [==============================] - 41s 5s/step - loss: 2.2306e-04 - accuracy: 1.0000 - val_loss: 0.1188 - val_accuracy: 0.9815\n",
            "Epoch 28/30\n",
            "8/8 [==============================] - 41s 5s/step - loss: 4.1609e-04 - accuracy: 1.0000 - val_loss: 0.1110 - val_accuracy: 0.9809\n",
            "Epoch 29/30\n",
            "8/8 [==============================] - 41s 5s/step - loss: 2.9684e-04 - accuracy: 1.0000 - val_loss: 0.1148 - val_accuracy: 0.9821\n",
            "Epoch 30/30\n",
            "8/8 [==============================] - 40s 5s/step - loss: 1.8405e-04 - accuracy: 1.0000 - val_loss: 0.1225 - val_accuracy: 0.9815\n",
            "3900\n",
            "3900\n"
          ]
        }
      ]
    },
    {
      "cell_type": "code",
      "source": [
        "loss, accuracy = model_cnn.evaluate(padded_test, y_test, verbose=1)\n",
        "print('Accuracy: %f' % (accuracy*100))\n",
        "print('Loss: %f' % (loss*100))\n",
        "\n",
        "plt.figure(figsize=(9, 3))\n",
        "plt.subplot(121)\n",
        "plt.plot(history_cnn.history['accuracy'], marker='+', label='Training Accuracy', c='blue', lw='1', alpha=0.9)\n",
        "plt.plot(history_cnn.history['val_accuracy'], marker='+', label='CNN', c='orange', lw='1', alpha=0.9)\n",
        "plt.title('Accuracy curve for CNN Model', loc='center', fontsize=10)\n",
        "plt.xlabel(\"Epochs\")\n",
        "plt.ylabel('Accuraacy')\n",
        "plt.legend()\n",
        "\n",
        "plt.subplot(122)\n",
        "plt.plot(history_cnn.history['loss'], marker='+', label='Training Loss', c='blue', lw='1', alpha=0.9)\n",
        "plt.plot(history_cnn.history['val_loss'], marker='+', label='CNN', c='orange', lw='1', alpha=0.9)\n",
        "plt.title('Loss curve for CNN Model', loc='center', fontsize=10)\n",
        "plt.xlabel(\"Epochs\")\n",
        "plt.ylabel('Loss')\n",
        "plt.legend()\n",
        "plt.show()\n"
      ],
      "metadata": {
        "colab": {
          "base_uri": "https://localhost:8080/",
          "height": 385
        },
        "id": "CPYbCv_Mjz0m",
        "outputId": "361758a0-d336-4851-ac79-9175df488863"
      },
      "execution_count": null,
      "outputs": [
        {
          "output_type": "stream",
          "name": "stdout",
          "text": [
            "53/53 [==============================] - 4s 78ms/step - loss: 0.1225 - accuracy: 0.9815\n",
            "Accuracy: 98.145932\n",
            "Loss: 12.250542\n"
          ]
        },
        {
          "output_type": "display_data",
          "data": {
            "text/plain": [
              "<Figure size 900x300 with 2 Axes>"
            ],
            "image/png": "[encoded data removed]"
          },
          "metadata": {}
        }
      ]
    },
    {
      "cell_type": "code",
      "source": [
        "embedding_layer= Embedding(vocab_size,\n",
        "                           100,\n",
        "                           weights=[embedding_matrix],\n",
        "                           input_length=max_length,\n",
        "                           trainable=True)\n",
        "sequence_input= Input(shape=(max_length,), dtype='int32')\n",
        "embedded_sequences=embedding_layer(sequence_input)\n",
        "\n",
        "sequence_input= Input(shape=(max_length,),dtype='int32')\n",
        "embedded_sequences=embedding_layer(sequence_input)\n",
        "x=LSTM(units=64)(embedding_layer(sequence_input))\n",
        "\n",
        "x= Dropout(0.2)(embedded_sequences)\n",
        "x= Conv1D(64 ,5 , activation='relu')(x)\n",
        "x= Dense(1 , activation='sigmoid')(x)\n",
        "x= MaxPooling1D(pool_size=4)(x)\n",
        "x= (LSTM(64))(x)\n",
        "p= Dense(1,activation='sigmoid')(x)\n",
        "model_cnnlstm= Model(sequence_input, p)\n",
        "model_cnnlstm.compile(optimizer='adam' , loss='binary_crossentropy',  metrics=['accuracy'])\n",
        "model_cnnlstm.summary()"
      ],
      "metadata": {
        "id": "oX2Ck21vKf32"
      },
      "execution_count": null,
      "outputs": []
    },
    {
      "cell_type": "code",
      "source": [
        "embedding_layer = Embedding(vocab_size,\n",
        "                           100,\n",
        "                           weights=[embedding_matrix],  # Use 'weights' instead of 'weight'\n",
        "                           input_length=max_length,\n",
        "                           trainable=True)\n",
        "\n",
        "sequence_input = Input(shape=(max_length,), dtype='int32')\n",
        "embedded_sequences = embedding_layer(sequence_input)\n",
        "\n",
        "x = Dropout(0.2)(embedded_sequences)\n",
        "x = Conv1D(64, 5, activation='relu')(x)\n",
        "x = MaxPooling1D(pool_size=4)(x)\n",
        "x = LSTM(64)(x)\n",
        "p = Dense(1, activation='sigmoid')(x)\n",
        "\n",
        "model_cnnlstm = Model(sequence_input, p)\n",
        "model_cnnlstm.compile(optimizer='adam', loss='binary_crossentropy', metrics=['accuracy'])\n",
        "model_cnnlstm.summary()"
      ],
      "metadata": {
        "id": "ftLBpGwFkKHC",
        "colab": {
          "base_uri": "https://localhost:8080/"
        },
        "outputId": "81404ff6-5f5f-42da-c663-16b2e918b31f"
      },
      "execution_count": null,
      "outputs": [
        {
          "output_type": "stream",
          "name": "stdout",
          "text": [
            "Model: \"model_8\"\n",
            "_________________________________________________________________\n",
            " Layer (type)                Output Shape              Param #   \n",
            "=================================================================\n",
            " input_9 (InputLayer)        [(None, 477)]             0         \n",
            "                                                                 \n",
            " embedding_8 (Embedding)     (None, 477, 100)          656900    \n",
            "                                                                 \n",
            " dropout_8 (Dropout)         (None, 477, 100)          0         \n",
            "                                                                 \n",
            " conv1d_4 (Conv1D)           (None, 473, 64)           32064     \n",
            "                                                                 \n",
            " max_pooling1d_4 (MaxPoolin  (None, 118, 64)           0         \n",
            " g1D)                                                            \n",
            "                                                                 \n",
            " lstm (LSTM)                 (None, 64)                33024     \n",
            "                                                                 \n",
            " dense_12 (Dense)            (None, 1)                 65        \n",
            "                                                                 \n",
            "=================================================================\n",
            "Total params: 722053 (2.75 MB)\n",
            "Trainable params: 722053 (2.75 MB)\n",
            "Non-trainable params: 0 (0.00 Byte)\n",
            "_________________________________________________________________\n"
          ]
        }
      ]
    },
    {
      "cell_type": "code",
      "source": [
        "spam_message = \"Congratulations! You have all been selected to receive a free gift card worth $1000. Click on this link [Link] to claim your reward now. Limited time offer, so act fast! Don't miss out on this amazing opportunity.\"\n",
        "encoded_spam = Tok_data.texts_to_sequences([spam_message])\n",
        "padded_spam = pad_sequences(encoded_spam, maxlen=max_length, padding='post')\n",
        "\n",
        "prediction_spam = model_cnn.predict(padded_spam)\n",
        "\n",
        "# Prediction continued\n",
        "threshold = 0.5\n",
        "if prediction_spam > threshold :\n",
        "  print(\"this is spam\")\n",
        "else :\n",
        "  print(\"this is not spam \")\n"
      ],
      "metadata": {
        "id": "vN4dKFYzKdMf",
        "colab": {
          "base_uri": "https://localhost:8080/"
        },
        "outputId": "0f6942e1-a2c6-45bf-df2a-ea2e6b4a2919"
      },
      "execution_count": null,
      "outputs": [
        {
          "output_type": "stream",
          "name": "stdout",
          "text": [
            "1/1 [==============================] - 0s 44ms/step\n",
            "this is spam\n"
          ]
        }
      ]
    },
    {
      "cell_type": "code",
      "source": [
        "import pickle"
      ],
      "metadata": {
        "id": "I-Tjbkd_aP4s"
      },
      "execution_count": null,
      "outputs": []
    },
    {
      "cell_type": "code",
      "source": [
        "with open('tokenizer.pickle', 'wb') as handle:\n",
        "    pickle.dump(Tok_data, handle, protocol=pickle.HIGHEST_PROTOCOL)"
      ],
      "metadata": {
        "id": "V-ZcSBOR0kdD"
      },
      "execution_count": null,
      "outputs": []
    }
  ]
}